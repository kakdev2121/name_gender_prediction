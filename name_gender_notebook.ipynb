{
 "cells": [
  {
   "cell_type": "code",
   "execution_count": null,
   "metadata": {},
   "outputs": [],
   "source": [
    "\"\"\"Solved this problem by considering approach of sequence of charecters in the name.\n",
    "step 1: Make a master directory (from the corpus of names in the data) of charecters asa label encoding.\n",
    "step 2:Tranform names to arrays of maximum size of name (15) and length of Master directory (27)\n",
    "step 3:Transformig label into array of male = [1,0] and female = [0,1]\n",
    "Step 4: train the LSTM model for 15 epoches to get the desired Result\"\"\"\n",
    "\n"
   ]
  },
  {
   "cell_type": "code",
   "execution_count": 35,
   "metadata": {},
   "outputs": [],
   "source": [
    "# importing all the required labs\n",
    "import numpy as np\n",
    "import pandas as pd\n",
    "from keras.preprocessing import sequence\n",
    "from keras.models import Sequential\n",
    "from keras.layers import Dense, Embedding, Dense, Activation, Dropout, LSTM, Bidirectional,SimpleRNN\n",
    "from sklearn.model_selection import train_test_split\n",
    "import pickle"
   ]
  },
  {
   "cell_type": "code",
   "execution_count": 2,
   "metadata": {},
   "outputs": [],
   "source": [
    "\n",
    "name_df = pd.read_csv(\"./name_gender.csv\")\n",
    "name_df.columns = ['name','gender','score']\n",
    "name_df = name_df.append({'name' : 'Aaban','gender' : 'M','score' : 1.0},ignore_index = True)"
   ]
  },
  {
   "cell_type": "code",
   "execution_count": 3,
   "metadata": {},
   "outputs": [],
   "source": [
    "# For count of male and females in data set\n",
    "name_df.groupby(['gender']).name.count()\n",
    "\n",
    "\n",
    "# Distribution of number of charecters in name of male and female\n",
    "def len_name(name):\n",
    "    return(len(name))\n",
    "name_df['name'] = name_df.name.apply(lambda x :x.lower())\n",
    "name_df['name_len'] = name_df.apply(lambda x : len_name(x['name']),axis=1)"
   ]
  },
  {
   "cell_type": "code",
   "execution_count": 4,
   "metadata": {},
   "outputs": [
    {
     "name": "stdout",
     "output_type": "stream",
     "text": [
      "Maximum 15 charecters name are present in data set\n",
      "Minimum 2 charecters name are present in data set\n"
     ]
    }
   ],
   "source": [
    "# Maximum and minimum lenght of charecters of names\n",
    "print(f\"Maximum {name_df.name_len.max()} charecters name are present in data set\")\n",
    "print(f\"Minimum {name_df.name_len.min()} charecters name are present in data set\")\n",
    "\n",
    "\n",
    "all_names = [i for i in name_df.name]\n",
    "all_aplha = (',').join(('').join(all_names))\n",
    "all_alpha = set([i for i in all_aplha])\n",
    "alpha_number  = dict((i,a) for a,i in enumerate(all_alpha))\n",
    "\n",
    "\"\"\"alpha_number is a master dictionary to train the model\"\"\""
   ]
  },
  {
   "cell_type": "code",
   "execution_count": 37,
   "metadata": {},
   "outputs": [
    {
     "data": {
      "text/plain": [
       "{'t': 14,\n",
       " 'x': 1,\n",
       " 'z': 2,\n",
       " 'n': 3,\n",
       " 'j': 4,\n",
       " 'q': 5,\n",
       " 'u': 6,\n",
       " 'c': 7,\n",
       " 'm': 8,\n",
       " 'i': 9,\n",
       " 'g': 10,\n",
       " 'o': 11,\n",
       " 'e': 12,\n",
       " 'b': 13,\n",
       " ',': 0,\n",
       " 'v': 15,\n",
       " 'k': 16,\n",
       " 'r': 17,\n",
       " 's': 18,\n",
       " 'y': 19,\n",
       " 'h': 20,\n",
       " 'a': 21,\n",
       " 'f': 22,\n",
       " 'd': 23,\n",
       " 'l': 24,\n",
       " 'p': 25,\n",
       " 'w': 26}"
      ]
     },
     "execution_count": 37,
     "metadata": {},
     "output_type": "execute_result"
    }
   ],
   "source": [
    "alpha_number"
   ]
  },
  {
   "cell_type": "code",
   "execution_count": 22,
   "metadata": {},
   "outputs": [],
   "source": [
    "def label_gender(gender):\n",
    "    if gender == \"F\":\n",
    "        return([0,1])\n",
    "    else:\n",
    "        return([1,0])\n",
    "    \n",
    "maxlen = name_df.name_len.max()\n",
    "def zero_padding(list1):\n",
    "    for i in range(len(list1),maxlen):\n",
    "        list1.append(0)\n",
    "    return(list1)\n",
    "\n",
    "def set_flag(i):\n",
    "    tmp = np.zeros(len(alpha_number));\n",
    "    tmp[i] = 1\n",
    "    return(tmp)\n",
    "\n",
    "def new_data_encode(name_encoded_vector):\n",
    "    aa = []\n",
    "        \n",
    "    for i in name_encoded_vector:\n",
    "        aa.append(set_flag(i))\n",
    "    return(aa)\n",
    "\n",
    "def name_encoding(name,max_len_name,len_alpha_number):\n",
    "    padding = zero_padding([alpha_number[i] for i in my_name])\n",
    "    print(padding)\n",
    "    encode_data = np.array(tuple(new_data_encode(padding)))\n",
    "    print(encode_data)\n",
    "    encode_name = encode_data.reshape(1,max_len_name,len_alpha_number)\n",
    "    return(encode_name)"
   ]
  },
  {
   "cell_type": "code",
   "execution_count": 23,
   "metadata": {},
   "outputs": [],
   "source": [
    "# Converting name to array \n",
    "name_df[\"name_encoded_vector\"] = name_df.name.apply(lambda x : [alpha_number[i] for i in x])\n",
    "name_df['name_encoded_vector'] = name_df.name_encoded_vector.apply(lambda x : zero_padding(x))\n",
    "name_df[\"new_name_encoded\"] = name_df.name_encoded_vector.apply(lambda x : new_data_encode(x))\n",
    "name_df[\"label_gender\"] = name_df.gender.apply(lambda x : label_gender(x))"
   ]
  },
  {
   "cell_type": "code",
   "execution_count": 24,
   "metadata": {},
   "outputs": [
    {
     "data": {
      "text/plain": [
       "[array([0., 0., 0., 0., 0., 0., 0., 0., 0., 0., 0., 0., 0., 0., 0., 0., 0.,\n",
       "        0., 0., 0., 0., 1., 0., 0., 0., 0., 0.]),\n",
       " array([0., 0., 0., 0., 0., 0., 0., 0., 0., 0., 0., 0., 0., 0., 0., 0., 0.,\n",
       "        0., 0., 0., 0., 1., 0., 0., 0., 0., 0.]),\n",
       " array([0., 0., 0., 0., 0., 0., 0., 0., 0., 0., 0., 0., 0., 1., 0., 0., 0.,\n",
       "        0., 0., 0., 0., 0., 0., 0., 0., 0., 0.]),\n",
       " array([0., 0., 0., 0., 0., 0., 0., 0., 0., 0., 0., 0., 0., 0., 0., 0., 0.,\n",
       "        0., 0., 0., 1., 0., 0., 0., 0., 0., 0.]),\n",
       " array([0., 0., 0., 0., 0., 0., 0., 0., 0., 0., 0., 0., 0., 0., 0., 0., 0.,\n",
       "        0., 0., 0., 0., 1., 0., 0., 0., 0., 0.]),\n",
       " array([1., 0., 0., 0., 0., 0., 0., 0., 0., 0., 0., 0., 0., 0., 0., 0., 0.,\n",
       "        0., 0., 0., 0., 0., 0., 0., 0., 0., 0.]),\n",
       " array([1., 0., 0., 0., 0., 0., 0., 0., 0., 0., 0., 0., 0., 0., 0., 0., 0.,\n",
       "        0., 0., 0., 0., 0., 0., 0., 0., 0., 0.]),\n",
       " array([1., 0., 0., 0., 0., 0., 0., 0., 0., 0., 0., 0., 0., 0., 0., 0., 0.,\n",
       "        0., 0., 0., 0., 0., 0., 0., 0., 0., 0.]),\n",
       " array([1., 0., 0., 0., 0., 0., 0., 0., 0., 0., 0., 0., 0., 0., 0., 0., 0.,\n",
       "        0., 0., 0., 0., 0., 0., 0., 0., 0., 0.]),\n",
       " array([1., 0., 0., 0., 0., 0., 0., 0., 0., 0., 0., 0., 0., 0., 0., 0., 0.,\n",
       "        0., 0., 0., 0., 0., 0., 0., 0., 0., 0.]),\n",
       " array([1., 0., 0., 0., 0., 0., 0., 0., 0., 0., 0., 0., 0., 0., 0., 0., 0.,\n",
       "        0., 0., 0., 0., 0., 0., 0., 0., 0., 0.]),\n",
       " array([1., 0., 0., 0., 0., 0., 0., 0., 0., 0., 0., 0., 0., 0., 0., 0., 0.,\n",
       "        0., 0., 0., 0., 0., 0., 0., 0., 0., 0.]),\n",
       " array([1., 0., 0., 0., 0., 0., 0., 0., 0., 0., 0., 0., 0., 0., 0., 0., 0.,\n",
       "        0., 0., 0., 0., 0., 0., 0., 0., 0., 0.]),\n",
       " array([1., 0., 0., 0., 0., 0., 0., 0., 0., 0., 0., 0., 0., 0., 0., 0., 0.,\n",
       "        0., 0., 0., 0., 0., 0., 0., 0., 0., 0.]),\n",
       " array([1., 0., 0., 0., 0., 0., 0., 0., 0., 0., 0., 0., 0., 0., 0., 0., 0.,\n",
       "        0., 0., 0., 0., 0., 0., 0., 0., 0., 0.])]"
      ]
     },
     "execution_count": 24,
     "metadata": {},
     "output_type": "execute_result"
    }
   ],
   "source": [
    "new_data_encode(zero_padding(name_df.name_encoded_vector[0]))"
   ]
  },
  {
   "cell_type": "code",
   "execution_count": 31,
   "metadata": {},
   "outputs": [
    {
     "name": "stdout",
     "output_type": "stream",
     "text": [
      "the shape of x_train (71268, 15, 27)\n",
      "the shape of y_train (71268, 2)\n",
      "the shape of x_test (23757, 15, 27)\n",
      "the shape of x_test (23757, 2)\n"
     ]
    }
   ],
   "source": [
    "\n",
    "X = np.array(tuple(name_df.new_name_encoded))\n",
    "Y = np.array(tuple(name_df.label_gender))\n",
    "X = X.reshape(name_df.shape[0],15,27) \n",
    "Y = Y.reshape(name_df.shape[0],2)\n",
    "\n",
    "x_train,x_test,y_train,y_test = train_test_split(X,Y)\n",
    "\n",
    "\n",
    "print(\"the shape of x_train\",x_train.shape)\n",
    "print(\"the shape of y_train\",y_train.shape)\n",
    "print(\"the shape of x_test\",x_test.shape)\n",
    "print(\"the shape of x_test\",y_test.shape)"
   ]
  },
  {
   "cell_type": "code",
   "execution_count": 32,
   "metadata": {},
   "outputs": [
    {
     "name": "stdout",
     "output_type": "stream",
     "text": [
      "Build model...\n",
      "WARNING:tensorflow:From C:\\Users\\vaibhav\\anaconda3\\lib\\site-packages\\keras\\backend\\tensorflow_backend.py:422: The name tf.global_variables is deprecated. Please use tf.compat.v1.global_variables instead.\n",
      "\n",
      "Train on 71268 samples, validate on 23757 samples\n",
      "Epoch 1/15\n",
      "71268/71268 [==============================] - 24s 337us/step - loss: 0.4545 - accuracy: 0.7855 - val_loss: 0.3936 - val_accuracy: 0.8240\n",
      "Epoch 2/15\n",
      "71268/71268 [==============================] - 23s 328us/step - loss: 0.3636 - accuracy: 0.8411 - val_loss: 0.3560 - val_accuracy: 0.8464\n",
      "Epoch 3/15\n",
      "71268/71268 [==============================] - 23s 328us/step - loss: 0.3391 - accuracy: 0.8536 - val_loss: 0.3430 - val_accuracy: 0.8528\n",
      "Epoch 4/15\n",
      "71268/71268 [==============================] - 23s 327us/step - loss: 0.3190 - accuracy: 0.8624 - val_loss: 0.3141 - val_accuracy: 0.8658\n",
      "Epoch 5/15\n",
      "71268/71268 [==============================] - 23s 329us/step - loss: 0.2993 - accuracy: 0.8713 - val_loss: 0.3002 - val_accuracy: 0.8708\n",
      "Epoch 6/15\n",
      "71268/71268 [==============================] - 23s 329us/step - loss: 0.2832 - accuracy: 0.8798 - val_loss: 0.2949 - val_accuracy: 0.8792\n",
      "Epoch 7/15\n",
      "71268/71268 [==============================] - 23s 330us/step - loss: 0.2690 - accuracy: 0.8873 - val_loss: 0.2842 - val_accuracy: 0.8834\n",
      "Epoch 8/15\n",
      "71268/71268 [==============================] - 24s 334us/step - loss: 0.2590 - accuracy: 0.8912 - val_loss: 0.2863 - val_accuracy: 0.8815\n",
      "Epoch 9/15\n",
      "71268/71268 [==============================] - 24s 337us/step - loss: 0.2463 - accuracy: 0.8977 - val_loss: 0.2707 - val_accuracy: 0.8888\n",
      "Epoch 10/15\n",
      "71268/71268 [==============================] - 24s 336us/step - loss: 0.2328 - accuracy: 0.9040 - val_loss: 0.2634 - val_accuracy: 0.8933\n",
      "Epoch 11/15\n",
      "71268/71268 [==============================] - 25s 345us/step - loss: 0.2238 - accuracy: 0.9066 - val_loss: 0.2569 - val_accuracy: 0.8957\n",
      "Epoch 12/15\n",
      "71268/71268 [==============================] - 25s 344us/step - loss: 0.2134 - accuracy: 0.9121 - val_loss: 0.2504 - val_accuracy: 0.8993\n",
      "Epoch 13/15\n",
      "71268/71268 [==============================] - 25s 346us/step - loss: 0.2020 - accuracy: 0.9167 - val_loss: 0.2486 - val_accuracy: 0.8993\n",
      "Epoch 14/15\n",
      "71268/71268 [==============================] - 25s 345us/step - loss: 0.1907 - accuracy: 0.9219 - val_loss: 0.2576 - val_accuracy: 0.9015\n",
      "Epoch 15/15\n",
      "71268/71268 [==============================] - 24s 344us/step - loss: 0.1800 - accuracy: 0.9262 - val_loss: 0.2478 - val_accuracy: 0.9037\n"
     ]
    },
    {
     "ename": "NameError",
     "evalue": "name 'plt' is not defined",
     "output_type": "error",
     "traceback": [
      "\u001b[1;31m---------------------------------------------------------------------------\u001b[0m",
      "\u001b[1;31mNameError\u001b[0m                                 Traceback (most recent call last)",
      "\u001b[1;32m<ipython-input-32-3f4a65ecb0bd>\u001b[0m in \u001b[0;36m<module>\u001b[1;34m\u001b[0m\n\u001b[0;32m     11\u001b[0m \u001b[0mhistory\u001b[0m \u001b[1;33m=\u001b[0m \u001b[0mmodel\u001b[0m\u001b[1;33m.\u001b[0m\u001b[0mfit\u001b[0m\u001b[1;33m(\u001b[0m\u001b[0mx_train\u001b[0m\u001b[1;33m,\u001b[0m\u001b[0my_train\u001b[0m\u001b[1;33m,\u001b[0m\u001b[0mbatch_size\u001b[0m\u001b[1;33m=\u001b[0m\u001b[0mbatch_size\u001b[0m\u001b[1;33m,\u001b[0m \u001b[0mepochs\u001b[0m\u001b[1;33m=\u001b[0m\u001b[1;36m15\u001b[0m\u001b[1;33m,\u001b[0m \u001b[0mverbose\u001b[0m\u001b[1;33m=\u001b[0m\u001b[1;36m1\u001b[0m\u001b[1;33m,\u001b[0m \u001b[0mvalidation_data\u001b[0m \u001b[1;33m=\u001b[0m\u001b[1;33m(\u001b[0m\u001b[0mx_test\u001b[0m\u001b[1;33m,\u001b[0m \u001b[0my_test\u001b[0m\u001b[1;33m)\u001b[0m\u001b[1;33m)\u001b[0m\u001b[1;33m\u001b[0m\u001b[1;33m\u001b[0m\u001b[0m\n\u001b[0;32m     12\u001b[0m \u001b[1;33m\u001b[0m\u001b[0m\n\u001b[1;32m---> 13\u001b[1;33m \u001b[0mplt\u001b[0m\u001b[1;33m.\u001b[0m\u001b[0mfigure\u001b[0m\u001b[1;33m(\u001b[0m\u001b[0mfigsize\u001b[0m\u001b[1;33m=\u001b[0m\u001b[1;33m(\u001b[0m\u001b[1;36m12\u001b[0m\u001b[1;33m,\u001b[0m\u001b[1;36m8\u001b[0m\u001b[1;33m)\u001b[0m\u001b[1;33m)\u001b[0m\u001b[1;33m\u001b[0m\u001b[1;33m\u001b[0m\u001b[0m\n\u001b[0m\u001b[0;32m     14\u001b[0m \u001b[0mplt\u001b[0m\u001b[1;33m.\u001b[0m\u001b[0mplot\u001b[0m\u001b[1;33m(\u001b[0m\u001b[0mhistory\u001b[0m\u001b[1;33m.\u001b[0m\u001b[0mhistory\u001b[0m\u001b[1;33m[\u001b[0m\u001b[1;34m'accuracy'\u001b[0m\u001b[1;33m]\u001b[0m\u001b[1;33m)\u001b[0m\u001b[1;33m\u001b[0m\u001b[1;33m\u001b[0m\u001b[0m\n\u001b[0;32m     15\u001b[0m \u001b[0mplt\u001b[0m\u001b[1;33m.\u001b[0m\u001b[0mplot\u001b[0m\u001b[1;33m(\u001b[0m\u001b[0mhistory\u001b[0m\u001b[1;33m.\u001b[0m\u001b[0mhistory\u001b[0m\u001b[1;33m[\u001b[0m\u001b[1;34m'val_accuracy'\u001b[0m\u001b[1;33m]\u001b[0m\u001b[1;33m)\u001b[0m\u001b[1;33m\u001b[0m\u001b[1;33m\u001b[0m\u001b[0m\n",
      "\u001b[1;31mNameError\u001b[0m: name 'plt' is not defined"
     ]
    }
   ],
   "source": [
    "# Model building using LSTM adding droupout to avoid overfitting.\n",
    "print('Build model...')\n",
    "model = Sequential()\n",
    "model.add(LSTM(512, return_sequences=True,input_shape =(15,27)))\n",
    "model.add(Dropout(0.2))\n",
    "model.add(LSTM(512, return_sequences=False))\n",
    "model.add(Dropout(0.2))\n",
    "model.add(Dense(2))\n",
    "model.add(Activation('softmax'))\n",
    "model.compile(loss='categorical_crossentropy', optimizer='adam',metrics=['accuracy'])\n",
    "batch_size = 256\n",
    "history = model.fit(x_train,y_train,batch_size=batch_size, epochs=15, verbose=1, validation_data =(x_test, y_test))\n"
   ]
  },
  {
   "cell_type": "code",
   "execution_count": 34,
   "metadata": {},
   "outputs": [
    {
     "data": {
      "image/png": "[encoded data removed]",
      "text/plain": [
       "<Figure size 864x576 with 1 Axes>"
      ]
     },
     "metadata": {
      "needs_background": "light"
     },
     "output_type": "display_data"
    }
   ],
   "source": [
    "import matplotlib.pyplot as plt\n",
    "plt.figure(figsize=(12,8))\n",
    "plt.plot(history.history['accuracy'])\n",
    "plt.plot(history.history['val_accuracy'])\n",
    "plt.title('Model accuracy')\n",
    "plt.ylabel('Accuracy')\n",
    "plt.xlabel('Epoch')\n",
    "plt.legend(['Train', 'Test'], loc='upper left')\n",
    "plt.show()"
   ]
  },
  {
   "cell_type": "code",
   "execution_count": 36,
   "metadata": {},
   "outputs": [
    {
     "name": "stdout",
     "output_type": "stream",
     "text": [
      "23757/23757 [==============================] - 13s 559us/step\n",
      "Test score: 0.24777965236779953\n",
      "Test accuracy: 0.9036915302276611\n"
     ]
    }
   ],
   "source": [
    "#saving the model and loding it again for evaluating the test data\n",
    "\n",
    "filename = 'gender_classification_lstm.sav'\n",
    "pickle.dump(model, open(filename, 'wb'))\n",
    " \n",
    "\n",
    "loaded_model = pickle.load(open(filename, 'rb'))\n",
    "score,acc = loaded_model.evaluate(x_test,y_test)\n",
    "print('Test score:', score)\n",
    "print('Test accuracy:', acc)\n",
    "\n",
    "# accuracy of 90% percent obtained"
   ]
  }
 ],
 "metadata": {
  "kernelspec": {
   "display_name": "Python 3",
   "language": "python",
   "name": "python3"
  },
  "language_info": {
   "codemirror_mode": {
    "name": "ipython",
    "version": 3
   },
   "file_extension": ".py",
   "mimetype": "text/x-python",
   "name": "python",
   "nbconvert_exporter": "python",
   "pygments_lexer": "ipython3",
   "version": "3.7.6"
  }
 },
 "nbformat": 4,
 "nbformat_minor": 4
}
